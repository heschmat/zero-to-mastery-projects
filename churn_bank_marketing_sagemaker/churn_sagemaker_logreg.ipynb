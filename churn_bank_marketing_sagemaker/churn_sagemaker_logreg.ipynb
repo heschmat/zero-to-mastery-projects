{
 "cells": [
  {
   "cell_type": "code",
   "execution_count": 1,
   "id": "dd9cc3ac",
   "metadata": {},
   "outputs": [],
   "source": [
    "import io\n",
    "import requests\n",
    "from zipfile import ZipFile\n",
    "from pathlib import Path\n",
    "\n",
    "import pickle\n",
    "import joblib"
   ]
  },
  {
   "cell_type": "code",
   "execution_count": 2,
   "id": "c1e29d56",
   "metadata": {},
   "outputs": [],
   "source": [
    "import numpy as np\n",
    "import pandas as pd\n",
    "import matplotlib.pyplot as plt"
   ]
  },
  {
   "cell_type": "code",
   "execution_count": 3,
   "id": "09435410",
   "metadata": {},
   "outputs": [],
   "source": [
    "from sklearn.model_selection import train_test_split\n",
    "from sklearn.preprocessing import OneHotEncoder, StandardScaler\n",
    "from sklearn.compose import ColumnTransformer\n",
    "from sklearn.pipeline import Pipeline"
   ]
  },
  {
   "cell_type": "code",
   "execution_count": 4,
   "id": "c101fedf",
   "metadata": {},
   "outputs": [
    {
     "name": "stdout",
     "output_type": "stream",
     "text": [
      "sagemaker.config INFO - Not applying SDK defaults from location: /etc/xdg/sagemaker/config.yaml\n",
      "sagemaker.config INFO - Not applying SDK defaults from location: /home/ec2-user/.config/sagemaker/config.yaml\n"
     ]
    }
   ],
   "source": [
    "import boto3\n",
    "import sagemaker"
   ]
  },
  {
   "cell_type": "code",
   "execution_count": 5,
   "id": "0c0468f0",
   "metadata": {},
   "outputs": [],
   "source": [
    "from sagemaker.amazon.amazon_estimator import get_image_uri\n",
    "\n",
    "from sagemaker.tuner import HyperparameterTuner, ContinuousParameter, IntegerParameter"
   ]
  },
  {
   "cell_type": "code",
   "execution_count": 6,
   "id": "1a0acb75",
   "metadata": {},
   "outputs": [
    {
     "data": {
      "text/plain": [
       "'arn:aws:iam::166664655187:role/service-role/AmazonSageMaker-ExecutionRole-20241104T113063'"
      ]
     },
     "execution_count": 6,
     "metadata": {},
     "output_type": "execute_result"
    }
   ],
   "source": [
    "role = sagemaker.get_execution_role()\n",
    "role"
   ]
  },
  {
   "cell_type": "code",
   "execution_count": 7,
   "id": "6a935807",
   "metadata": {},
   "outputs": [
    {
     "data": {
      "text/plain": [
       "<sagemaker.session.Session at 0x7fb31d9d4b50>"
      ]
     },
     "execution_count": 7,
     "metadata": {},
     "output_type": "execute_result"
    }
   ],
   "source": [
    "sess = sagemaker.Session()\n",
    "sess"
   ]
  },
  {
   "cell_type": "code",
   "execution_count": 8,
   "id": "cad766e6",
   "metadata": {},
   "outputs": [
    {
     "data": {
      "text/plain": [
       "'sagemaker-us-east-1-166664655187'"
      ]
     },
     "execution_count": 8,
     "metadata": {},
     "output_type": "execute_result"
    }
   ],
   "source": [
    "s3bucket = sess.default_bucket()\n",
    "s3bucket"
   ]
  },
  {
   "cell_type": "code",
   "execution_count": 9,
   "id": "6f46dccf",
   "metadata": {},
   "outputs": [],
   "source": [
    "# https://archive.ics.uci.edu/dataset/222/bank+marketing\n",
    "data_url = 'https://archive.ics.uci.edu/static/public/222/bank+marketing.zip'\n",
    "\n",
    "resp = requests.get(data_url)\n",
    "resp.raise_for_status()  # check if the request was ok."
   ]
  },
  {
   "cell_type": "code",
   "execution_count": 10,
   "id": "bb49b1aa",
   "metadata": {},
   "outputs": [],
   "source": [
    "data_dir = Path('bank_marketing_data')\n",
    "\n",
    "with ZipFile(io.BytesIO(resp.content)) as zip_file:\n",
    "    zip_file.extractall(data_dir)"
   ]
  },
  {
   "cell_type": "code",
   "execution_count": 11,
   "id": "21367655",
   "metadata": {},
   "outputs": [],
   "source": [
    "with ZipFile(data_dir / 'bank.zip') as zip_file:\n",
    "    zip_file.extractall(data_dir)"
   ]
  },
  {
   "cell_type": "code",
   "execution_count": 12,
   "id": "4673087d",
   "metadata": {},
   "outputs": [
    {
     "data": {
      "text/plain": [
       "(45211, 17)"
      ]
     },
     "execution_count": 12,
     "metadata": {},
     "output_type": "execute_result"
    }
   ],
   "source": [
    "df = pd.read_csv(data_dir / 'bank-full.csv', sep=';')\n",
    "df.shape"
   ]
  },
  {
   "cell_type": "code",
   "execution_count": 13,
   "id": "3198a627",
   "metadata": {},
   "outputs": [
    {
     "data": {
      "text/html": [
       "<div>\n",
       "<style scoped>\n",
       "    .dataframe tbody tr th:only-of-type {\n",
       "        vertical-align: middle;\n",
       "    }\n",
       "\n",
       "    .dataframe tbody tr th {\n",
       "        vertical-align: top;\n",
       "    }\n",
       "\n",
       "    .dataframe thead th {\n",
       "        text-align: right;\n",
       "    }\n",
       "</style>\n",
       "<table border=\"1\" class=\"dataframe\">\n",
       "  <thead>\n",
       "    <tr style=\"text-align: right;\">\n",
       "      <th></th>\n",
       "      <th>age</th>\n",
       "      <th>job</th>\n",
       "      <th>marital</th>\n",
       "      <th>education</th>\n",
       "      <th>default</th>\n",
       "      <th>balance</th>\n",
       "      <th>housing</th>\n",
       "      <th>loan</th>\n",
       "      <th>contact</th>\n",
       "      <th>day</th>\n",
       "      <th>month</th>\n",
       "      <th>duration</th>\n",
       "      <th>campaign</th>\n",
       "      <th>pdays</th>\n",
       "      <th>previous</th>\n",
       "      <th>poutcome</th>\n",
       "      <th>y</th>\n",
       "    </tr>\n",
       "  </thead>\n",
       "  <tbody>\n",
       "    <tr>\n",
       "      <th>0</th>\n",
       "      <td>58</td>\n",
       "      <td>management</td>\n",
       "      <td>married</td>\n",
       "      <td>tertiary</td>\n",
       "      <td>no</td>\n",
       "      <td>2143</td>\n",
       "      <td>yes</td>\n",
       "      <td>no</td>\n",
       "      <td>unknown</td>\n",
       "      <td>5</td>\n",
       "      <td>may</td>\n",
       "      <td>261</td>\n",
       "      <td>1</td>\n",
       "      <td>-1</td>\n",
       "      <td>0</td>\n",
       "      <td>unknown</td>\n",
       "      <td>no</td>\n",
       "    </tr>\n",
       "    <tr>\n",
       "      <th>1</th>\n",
       "      <td>44</td>\n",
       "      <td>technician</td>\n",
       "      <td>single</td>\n",
       "      <td>secondary</td>\n",
       "      <td>no</td>\n",
       "      <td>29</td>\n",
       "      <td>yes</td>\n",
       "      <td>no</td>\n",
       "      <td>unknown</td>\n",
       "      <td>5</td>\n",
       "      <td>may</td>\n",
       "      <td>151</td>\n",
       "      <td>1</td>\n",
       "      <td>-1</td>\n",
       "      <td>0</td>\n",
       "      <td>unknown</td>\n",
       "      <td>no</td>\n",
       "    </tr>\n",
       "    <tr>\n",
       "      <th>2</th>\n",
       "      <td>33</td>\n",
       "      <td>entrepreneur</td>\n",
       "      <td>married</td>\n",
       "      <td>secondary</td>\n",
       "      <td>no</td>\n",
       "      <td>2</td>\n",
       "      <td>yes</td>\n",
       "      <td>yes</td>\n",
       "      <td>unknown</td>\n",
       "      <td>5</td>\n",
       "      <td>may</td>\n",
       "      <td>76</td>\n",
       "      <td>1</td>\n",
       "      <td>-1</td>\n",
       "      <td>0</td>\n",
       "      <td>unknown</td>\n",
       "      <td>no</td>\n",
       "    </tr>\n",
       "    <tr>\n",
       "      <th>3</th>\n",
       "      <td>47</td>\n",
       "      <td>blue-collar</td>\n",
       "      <td>married</td>\n",
       "      <td>unknown</td>\n",
       "      <td>no</td>\n",
       "      <td>1506</td>\n",
       "      <td>yes</td>\n",
       "      <td>no</td>\n",
       "      <td>unknown</td>\n",
       "      <td>5</td>\n",
       "      <td>may</td>\n",
       "      <td>92</td>\n",
       "      <td>1</td>\n",
       "      <td>-1</td>\n",
       "      <td>0</td>\n",
       "      <td>unknown</td>\n",
       "      <td>no</td>\n",
       "    </tr>\n",
       "    <tr>\n",
       "      <th>4</th>\n",
       "      <td>33</td>\n",
       "      <td>unknown</td>\n",
       "      <td>single</td>\n",
       "      <td>unknown</td>\n",
       "      <td>no</td>\n",
       "      <td>1</td>\n",
       "      <td>no</td>\n",
       "      <td>no</td>\n",
       "      <td>unknown</td>\n",
       "      <td>5</td>\n",
       "      <td>may</td>\n",
       "      <td>198</td>\n",
       "      <td>1</td>\n",
       "      <td>-1</td>\n",
       "      <td>0</td>\n",
       "      <td>unknown</td>\n",
       "      <td>no</td>\n",
       "    </tr>\n",
       "  </tbody>\n",
       "</table>\n",
       "</div>"
      ],
      "text/plain": [
       "   age           job  marital  education default  balance housing loan  \\\n",
       "0   58    management  married   tertiary      no     2143     yes   no   \n",
       "1   44    technician   single  secondary      no       29     yes   no   \n",
       "2   33  entrepreneur  married  secondary      no        2     yes  yes   \n",
       "3   47   blue-collar  married    unknown      no     1506     yes   no   \n",
       "4   33       unknown   single    unknown      no        1      no   no   \n",
       "\n",
       "   contact  day month  duration  campaign  pdays  previous poutcome   y  \n",
       "0  unknown    5   may       261         1     -1         0  unknown  no  \n",
       "1  unknown    5   may       151         1     -1         0  unknown  no  \n",
       "2  unknown    5   may        76         1     -1         0  unknown  no  \n",
       "3  unknown    5   may        92         1     -1         0  unknown  no  \n",
       "4  unknown    5   may       198         1     -1         0  unknown  no  "
      ]
     },
     "execution_count": 13,
     "metadata": {},
     "output_type": "execute_result"
    }
   ],
   "source": [
    "df.head()"
   ]
  },
  {
   "cell_type": "code",
   "execution_count": 14,
   "id": "a7a381f5",
   "metadata": {},
   "outputs": [],
   "source": [
    "yesno_cols = ['default', 'housing', 'loan', 'y']\n",
    "\n",
    "for col in yesno_cols:\n",
    "    df[col] = (df[col] == 'yes').astype('float')\n"
   ]
  },
  {
   "cell_type": "code",
   "execution_count": 15,
   "id": "2680d86e",
   "metadata": {},
   "outputs": [
    {
     "data": {
      "text/html": [
       "<div>\n",
       "<style scoped>\n",
       "    .dataframe tbody tr th:only-of-type {\n",
       "        vertical-align: middle;\n",
       "    }\n",
       "\n",
       "    .dataframe tbody tr th {\n",
       "        vertical-align: top;\n",
       "    }\n",
       "\n",
       "    .dataframe thead th {\n",
       "        text-align: right;\n",
       "    }\n",
       "</style>\n",
       "<table border=\"1\" class=\"dataframe\">\n",
       "  <thead>\n",
       "    <tr style=\"text-align: right;\">\n",
       "      <th></th>\n",
       "      <th>age</th>\n",
       "      <th>job</th>\n",
       "      <th>marital</th>\n",
       "      <th>education</th>\n",
       "      <th>default</th>\n",
       "      <th>balance</th>\n",
       "      <th>housing</th>\n",
       "      <th>loan</th>\n",
       "      <th>contact</th>\n",
       "      <th>day</th>\n",
       "      <th>month</th>\n",
       "      <th>duration</th>\n",
       "      <th>campaign</th>\n",
       "      <th>pdays</th>\n",
       "      <th>previous</th>\n",
       "      <th>poutcome</th>\n",
       "      <th>y</th>\n",
       "    </tr>\n",
       "  </thead>\n",
       "  <tbody>\n",
       "    <tr>\n",
       "      <th>0</th>\n",
       "      <td>58</td>\n",
       "      <td>management</td>\n",
       "      <td>married</td>\n",
       "      <td>tertiary</td>\n",
       "      <td>0.0</td>\n",
       "      <td>2143</td>\n",
       "      <td>1.0</td>\n",
       "      <td>0.0</td>\n",
       "      <td>unknown</td>\n",
       "      <td>5</td>\n",
       "      <td>may</td>\n",
       "      <td>261</td>\n",
       "      <td>1</td>\n",
       "      <td>-1</td>\n",
       "      <td>0</td>\n",
       "      <td>unknown</td>\n",
       "      <td>0.0</td>\n",
       "    </tr>\n",
       "    <tr>\n",
       "      <th>1</th>\n",
       "      <td>44</td>\n",
       "      <td>technician</td>\n",
       "      <td>single</td>\n",
       "      <td>secondary</td>\n",
       "      <td>0.0</td>\n",
       "      <td>29</td>\n",
       "      <td>1.0</td>\n",
       "      <td>0.0</td>\n",
       "      <td>unknown</td>\n",
       "      <td>5</td>\n",
       "      <td>may</td>\n",
       "      <td>151</td>\n",
       "      <td>1</td>\n",
       "      <td>-1</td>\n",
       "      <td>0</td>\n",
       "      <td>unknown</td>\n",
       "      <td>0.0</td>\n",
       "    </tr>\n",
       "    <tr>\n",
       "      <th>2</th>\n",
       "      <td>33</td>\n",
       "      <td>entrepreneur</td>\n",
       "      <td>married</td>\n",
       "      <td>secondary</td>\n",
       "      <td>0.0</td>\n",
       "      <td>2</td>\n",
       "      <td>1.0</td>\n",
       "      <td>1.0</td>\n",
       "      <td>unknown</td>\n",
       "      <td>5</td>\n",
       "      <td>may</td>\n",
       "      <td>76</td>\n",
       "      <td>1</td>\n",
       "      <td>-1</td>\n",
       "      <td>0</td>\n",
       "      <td>unknown</td>\n",
       "      <td>0.0</td>\n",
       "    </tr>\n",
       "    <tr>\n",
       "      <th>3</th>\n",
       "      <td>47</td>\n",
       "      <td>blue-collar</td>\n",
       "      <td>married</td>\n",
       "      <td>unknown</td>\n",
       "      <td>0.0</td>\n",
       "      <td>1506</td>\n",
       "      <td>1.0</td>\n",
       "      <td>0.0</td>\n",
       "      <td>unknown</td>\n",
       "      <td>5</td>\n",
       "      <td>may</td>\n",
       "      <td>92</td>\n",
       "      <td>1</td>\n",
       "      <td>-1</td>\n",
       "      <td>0</td>\n",
       "      <td>unknown</td>\n",
       "      <td>0.0</td>\n",
       "    </tr>\n",
       "    <tr>\n",
       "      <th>4</th>\n",
       "      <td>33</td>\n",
       "      <td>unknown</td>\n",
       "      <td>single</td>\n",
       "      <td>unknown</td>\n",
       "      <td>0.0</td>\n",
       "      <td>1</td>\n",
       "      <td>0.0</td>\n",
       "      <td>0.0</td>\n",
       "      <td>unknown</td>\n",
       "      <td>5</td>\n",
       "      <td>may</td>\n",
       "      <td>198</td>\n",
       "      <td>1</td>\n",
       "      <td>-1</td>\n",
       "      <td>0</td>\n",
       "      <td>unknown</td>\n",
       "      <td>0.0</td>\n",
       "    </tr>\n",
       "  </tbody>\n",
       "</table>\n",
       "</div>"
      ],
      "text/plain": [
       "   age           job  marital  education  default  balance  housing  loan  \\\n",
       "0   58    management  married   tertiary      0.0     2143      1.0   0.0   \n",
       "1   44    technician   single  secondary      0.0       29      1.0   0.0   \n",
       "2   33  entrepreneur  married  secondary      0.0        2      1.0   1.0   \n",
       "3   47   blue-collar  married    unknown      0.0     1506      1.0   0.0   \n",
       "4   33       unknown   single    unknown      0.0        1      0.0   0.0   \n",
       "\n",
       "   contact  day month  duration  campaign  pdays  previous poutcome    y  \n",
       "0  unknown    5   may       261         1     -1         0  unknown  0.0  \n",
       "1  unknown    5   may       151         1     -1         0  unknown  0.0  \n",
       "2  unknown    5   may        76         1     -1         0  unknown  0.0  \n",
       "3  unknown    5   may        92         1     -1         0  unknown  0.0  \n",
       "4  unknown    5   may       198         1     -1         0  unknown  0.0  "
      ]
     },
     "execution_count": 15,
     "metadata": {},
     "output_type": "execute_result"
    }
   ],
   "source": [
    "df.head()"
   ]
  },
  {
   "cell_type": "code",
   "execution_count": 16,
   "id": "f7262daf",
   "metadata": {},
   "outputs": [
    {
     "data": {
      "text/plain": [
       "count     45211.000000\n",
       "mean       1362.272058\n",
       "std        3044.765829\n",
       "min       -8019.000000\n",
       "25%          72.000000\n",
       "50%         448.000000\n",
       "75%        1428.000000\n",
       "max      102127.000000\n",
       "Name: balance, dtype: float64"
      ]
     },
     "execution_count": 16,
     "metadata": {},
     "output_type": "execute_result"
    }
   ],
   "source": [
    "df['balance'].describe()"
   ]
  },
  {
   "cell_type": "code",
   "execution_count": 17,
   "id": "99045780",
   "metadata": {},
   "outputs": [
    {
     "data": {
      "text/plain": [
       "may    13766\n",
       "jul     6895\n",
       "aug     6247\n",
       "jun     5341\n",
       "nov     3970\n",
       "apr     2932\n",
       "feb     2649\n",
       "jan     1403\n",
       "oct      738\n",
       "sep      579\n",
       "mar      477\n",
       "dec      214\n",
       "Name: month, dtype: int64"
      ]
     },
     "execution_count": 17,
     "metadata": {},
     "output_type": "execute_result"
    }
   ],
   "source": [
    "df['month'].value_counts()"
   ]
  },
  {
   "cell_type": "code",
   "execution_count": 18,
   "id": "ce0e4d19",
   "metadata": {},
   "outputs": [],
   "source": [
    "# Split into training and testing sets\n",
    "y = df['y'].values\n",
    "X = df.drop(['y'], axis=1)\n",
    "X_trn, X_tst, y_trn, y_tst = train_test_split(X, y, test_size=0.2, random_state=19)"
   ]
  },
  {
   "cell_type": "code",
   "execution_count": 19,
   "id": "b9979abb",
   "metadata": {},
   "outputs": [
    {
     "data": {
      "text/plain": [
       "((36168, 16), (9043, 16))"
      ]
     },
     "execution_count": 19,
     "metadata": {},
     "output_type": "execute_result"
    }
   ],
   "source": [
    "X_trn.shape, X_tst.shape"
   ]
  },
  {
   "cell_type": "code",
   "execution_count": 20,
   "id": "c662e75c",
   "metadata": {},
   "outputs": [
    {
     "data": {
      "text/plain": [
       "'30,admin.,married,secondary,0.0,692,1.0,0.0,cellular,11,may,290,1,-1,0,unknown'"
      ]
     },
     "execution_count": 20,
     "metadata": {},
     "output_type": "execute_result"
    }
   ],
   "source": [
    "sample_input = X_trn.iloc[0].values.tolist()\n",
    "','.join([str(x) for x in sample_input])"
   ]
  },
  {
   "cell_type": "code",
   "execution_count": 21,
   "id": "a4fb1b0f",
   "metadata": {},
   "outputs": [
    {
     "data": {
      "text/plain": [
       "'age,job,marital,education,default,balance,housing,loan,contact,day,month,duration,campaign,pdays,previous,poutcome'"
      ]
     },
     "execution_count": 21,
     "metadata": {},
     "output_type": "execute_result"
    }
   ],
   "source": [
    "','.join(X_trn.columns)"
   ]
  },
  {
   "cell_type": "code",
   "execution_count": 22,
   "id": "322f2879",
   "metadata": {},
   "outputs": [],
   "source": [
    "# Custom ColumnTransformer to remove prefixes in transformed column names\n",
    "class CustomColumnTransformer(ColumnTransformer):\n",
    "    def get_feature_names_out(self, input_features=None):\n",
    "        # Get feature names with prefixes removed\n",
    "        feature_names = []\n",
    "        \n",
    "        # Adjusting _iter to use the required arguments for current scikit-learn versions\n",
    "        for name, trans, columns, _ in self._iter(fitted=True, column_as_labels=True, skip_drop=True, skip_empty_columns=True):\n",
    "            if hasattr(trans, 'get_feature_names_out'):\n",
    "                # Remove the transformer prefix (`cat_`, `num_`, etc.)\n",
    "                trans_feature_names = trans.get_feature_names_out(columns)\n",
    "                clean_names = [col.replace('cat_', '').replace('num_', '').replace('remainder_', '') \n",
    "                               for col in trans_feature_names]\n",
    "                feature_names.extend(clean_names)\n",
    "            else:\n",
    "                # Directly add columns if no specific transformer applied\n",
    "                feature_names.extend(columns)\n",
    "        return np.array(feature_names)"
   ]
  },
  {
   "cell_type": "code",
   "execution_count": 23,
   "id": "d99f25be",
   "metadata": {},
   "outputs": [],
   "source": [
    "cols_cat = ['job', 'marital', 'education', 'contact', 'poutcome', 'month']\n",
    "cols_num = ['age', 'balance', 'duration']\n",
    "\n",
    "preprocessor = CustomColumnTransformer(\n",
    "    transformers=[\n",
    "        ('num', StandardScaler(), cols_num),\n",
    "        ('cat', OneHotEncoder(), cols_cat)\n",
    "    ],\n",
    "    remainder='passthrough'  # Keep binary columns as they are\n",
    ")\n",
    "\n",
    "# Fit the preprocessor on the training data and transform it\n",
    "df_trn_transformed = preprocessor.fit_transform(X_trn)\n",
    "df_tst_transformed = preprocessor.transform(X_tst)"
   ]
  },
  {
   "cell_type": "code",
   "execution_count": 24,
   "id": "9b1d42be",
   "metadata": {},
   "outputs": [
    {
     "data": {
      "text/plain": [
       "array(['age', 'balance', 'duration', 'job_admin.', 'job_blue-collar',\n",
       "       'job_entrepreneur', 'job_housemaid', 'job_management',\n",
       "       'job_retired', 'job_self-employed', 'job_services', 'job_student',\n",
       "       'job_technician', 'job_unemployed', 'job_unknown',\n",
       "       'marital_divorced', 'marital_married', 'marital_single',\n",
       "       'education_primary', 'education_secondary', 'education_tertiary',\n",
       "       'education_unknown', 'contact_cellular', 'contact_telephone',\n",
       "       'contact_unknown', 'poutcome_failure', 'poutcome_other',\n",
       "       'poutcome_success', 'poutcome_unknown', 'month_apr', 'month_aug',\n",
       "       'month_dec', 'month_feb', 'month_jan', 'month_jul', 'month_jun',\n",
       "       'month_mar', 'month_may', 'month_nov', 'month_oct', 'month_sep',\n",
       "       'default', 'housing', 'loan', 'day', 'campaign', 'pdays',\n",
       "       'previous'], dtype='<U19')"
      ]
     },
     "execution_count": 24,
     "metadata": {},
     "output_type": "execute_result"
    }
   ],
   "source": [
    "# Get the column names after one-hot encoding for better readability\n",
    "transformed_cols = preprocessor.get_feature_names_out()\n",
    "transformed_cols"
   ]
  },
  {
   "cell_type": "code",
   "execution_count": 25,
   "id": "c155ef9a",
   "metadata": {},
   "outputs": [],
   "source": [
    "df_trn_clean = pd.DataFrame(df_trn_transformed, columns=transformed_cols)\n",
    "df_tst_clean = pd.DataFrame(df_tst_transformed, columns=transformed_cols)"
   ]
  },
  {
   "cell_type": "code",
   "execution_count": 26,
   "id": "8c2f76eb",
   "metadata": {},
   "outputs": [
    {
     "data": {
      "text/plain": [
       "'30,admin.,married,secondary,0.0,692,1.0,0.0,cellular,11,may,290,1,-1,0,unknown'"
      ]
     },
     "execution_count": 26,
     "metadata": {},
     "output_type": "execute_result"
    }
   ],
   "source": [
    "# This will be the raw input\n",
    "','.join([str(x) for x in X_trn.iloc[0].values.tolist()])"
   ]
  },
  {
   "cell_type": "code",
   "execution_count": 27,
   "id": "38150f07",
   "metadata": {},
   "outputs": [
    {
     "data": {
      "text/plain": [
       "'-1.0307586832326059,-0.2210044429032759,0.12417163887544379,1.0,0.0,0.0,0.0,0.0,0.0,0.0,0.0,0.0,0.0,0.0,0.0,0.0,1.0,0.0,0.0,1.0,0.0,0.0,1.0,0.0,0.0,0.0,0.0,0.0,1.0,0.0,0.0,0.0,0.0,0.0,0.0,0.0,0.0,1.0,0.0,0.0,0.0,0.0,1.0,0.0,11.0,1.0,-1.0,0.0'"
      ]
     },
     "execution_count": 27,
     "metadata": {},
     "output_type": "execute_result"
    }
   ],
   "source": [
    "# This will be step1; preprocess the raw data and prepare for inference\n",
    "# The order will be like `transformed_cols`\n",
    "','.join([str(x) for x in df_trn_clean.iloc[0].values.tolist()])"
   ]
  },
  {
   "cell_type": "code",
   "execution_count": 28,
   "id": "2284520a",
   "metadata": {},
   "outputs": [],
   "source": [
    "df_trn_clean['y'] = y_trn\n",
    "df_tst_clean['y'] = y_tst"
   ]
  },
  {
   "cell_type": "code",
   "execution_count": 29,
   "id": "c7ad03b5",
   "metadata": {},
   "outputs": [],
   "source": [
    "# Move 'y' column to the first position\n",
    "# target column should be first.\n",
    "df_trn_clean = df_trn_clean[['y'] + [col for col in df_trn_clean.columns if col != 'y']]\n",
    "df_tst_clean = df_tst_clean[['y'] + [col for col in df_tst_clean.columns if col != 'y']]"
   ]
  },
  {
   "cell_type": "code",
   "execution_count": 30,
   "id": "d4e909c4",
   "metadata": {},
   "outputs": [
    {
     "data": {
      "text/plain": [
       "((36168, 49), (9043, 49))"
      ]
     },
     "execution_count": 30,
     "metadata": {},
     "output_type": "execute_result"
    }
   ],
   "source": [
    "df_trn_clean.shape, df_tst_clean.shape"
   ]
  },
  {
   "cell_type": "code",
   "execution_count": 31,
   "id": "1c74e8ff",
   "metadata": {},
   "outputs": [],
   "source": [
    "# Save the fitted preprocessor object\n",
    "# joblib.dump(preprocessor, 'preprocessor.joblib')\n",
    "\n",
    "# Save preprocessor as a pickle file\n",
    "with open(\"preprocessor.pkl\", \"wb\") as f:\n",
    "    pickle.dump(preprocessor, f)\n"
   ]
  },
  {
   "cell_type": "code",
   "execution_count": 32,
   "id": "f6834e05",
   "metadata": {},
   "outputs": [
    {
     "name": "stdout",
     "output_type": "stream",
     "text": [
      "Preprocessor uploaded to: s3://churn-bank-marketing/sagemaker/preprocessors/preprocessor.pkl\n"
     ]
    }
   ],
   "source": [
    "# Get the default bucket and create an S3 path\n",
    "sess = sagemaker.Session()\n",
    "# bucket = sess.default_bucket()\n",
    "bucket_name = 'churn-bank-marketing'\n",
    "prefix = 'sagemaker/preprocessors'\n",
    "s3_path = f's3://{bucket_name}/{prefix}/preprocessor.pkl'\n",
    "\n",
    "# Upload the file to S3\n",
    "s3_uri = sess.upload_data(\"preprocessor.pkl\", bucket=bucket_name, key_prefix=prefix)\n",
    "print(f\"Preprocessor uploaded to: {s3_uri}\")\n"
   ]
  },
  {
   "cell_type": "code",
   "execution_count": 33,
   "id": "c70cdfff",
   "metadata": {},
   "outputs": [
    {
     "name": "stdout",
     "output_type": "stream",
     "text": [
      "Preprocessor loaded from S3.\n"
     ]
    }
   ],
   "source": [
    "# Download the file from S3\n",
    "s3 = boto3.client(\"s3\")\n",
    "s3.download_file(bucket_name, f\"{prefix}/preprocessor.pkl\", \"preprocessor2.pkl\")\n",
    "\n",
    "# Load preprocessor from the pickle file\n",
    "with open(\"preprocessor2.pkl\", \"rb\") as f:\n",
    "    preprocessor2 = pickle.load(f)\n",
    "\n",
    "print(\"Preprocessor loaded from S3.\")"
   ]
  },
  {
   "cell_type": "code",
   "execution_count": null,
   "id": "0d0fcc7d",
   "metadata": {},
   "outputs": [],
   "source": []
  },
  {
   "cell_type": "code",
   "execution_count": 34,
   "id": "4c98a9ad",
   "metadata": {},
   "outputs": [],
   "source": [
    "import joblib\n",
    "import pandas as pd\n",
    "import json\n",
    "\n",
    "# # Load the preprocessor model at the global level, so it only loads once per container instance\n",
    "# preprocessor_path = 'preprocessor.joblib'\n",
    "# preprocessor = joblib.load(preprocessor_path)  # or load from S3 if needed\n",
    "\n",
    "# Load preprocessor from the pickle file\n",
    "with open(\"preprocessor2.pkl\", \"rb\") as f:\n",
    "    preprocessor = pickle.load(f)\n",
    "\n",
    "def preprocess_inputdata(event, context):\n",
    "    # Extract the input data from the event (assuming it’s in a specific format)\n",
    "    input_data = event['input']  # should be in the form of a comma-separated string\n",
    "    input_values = input_data.split(',')\n",
    "\n",
    "    # Define column names as per trained schema\n",
    "    column_names = [\n",
    "        'age', 'job', 'marital', 'education', 'default', 'balance', \n",
    "        'housing', 'loan', 'contact', 'day', 'month', 'duration', \n",
    "        'campaign', 'pdays', 'previous', 'poutcome'\n",
    "    ]\n",
    "    \n",
    "    # Create DataFrame for the input data\n",
    "    input_df = pd.DataFrame([input_values], columns=column_names)\n",
    "\n",
    "    # Convert numeric columns to float\n",
    "    numeric_columns = ['age', 'balance', 'duration', 'default',\n",
    "                       'housing', 'loan', 'day', 'campaign', 'pdays', 'previous']\n",
    "    input_df[numeric_columns] = input_df[numeric_columns].astype(float)\n",
    "\n",
    "    # Transform the data using the pre-fitted preprocessor\n",
    "    transformed_data = preprocessor.transform(input_df)\n",
    "    \n",
    "    # Convert to a list or any other suitable format for downstream processing\n",
    "    transformed_list = transformed_data.flatten().tolist()\n",
    "    \n",
    "    # Return or forward the transformed data\n",
    "    return {\n",
    "        'statusCode': 200,\n",
    "        'body': json.dumps({'transformed_data': transformed_list})\n",
    "    }\n"
   ]
  },
  {
   "cell_type": "code",
   "execution_count": 35,
   "id": "282f30fa",
   "metadata": {},
   "outputs": [
    {
     "data": {
      "text/plain": [
       "{'statusCode': 200,\n",
       " 'body': '{\"transformed_data\": [-1.0307586832326059, -0.2210044429032759, 0.12417163887544379, 1.0, 0.0, 0.0, 0.0, 0.0, 0.0, 0.0, 0.0, 0.0, 0.0, 0.0, 0.0, 0.0, 1.0, 0.0, 0.0, 1.0, 0.0, 0.0, 1.0, 0.0, 0.0, 0.0, 0.0, 0.0, 1.0, 0.0, 0.0, 0.0, 0.0, 0.0, 0.0, 0.0, 0.0, 1.0, 0.0, 0.0, 0.0, 0.0, 1.0, 0.0, 11.0, 1.0, -1.0, 0.0]}'}"
      ]
     },
     "execution_count": 35,
     "metadata": {},
     "output_type": "execute_result"
    }
   ],
   "source": [
    "# Sample input data\n",
    "sample_input = '30,admin.,married,secondary,0.0,692,1.0,0.0,cellular,11,may,290,1,-1,0,unknown'\n",
    "\n",
    "# A mock event-like dictionary with the 'input' key holding the string\n",
    "event = {\n",
    "    'input': sample_input\n",
    "}\n",
    "\n",
    "step1_transformed_data = preprocess_inputdata(event, None)\n",
    "step1_transformed_data"
   ]
  },
  {
   "cell_type": "code",
   "execution_count": 36,
   "id": "a98c14fe",
   "metadata": {},
   "outputs": [],
   "source": [
    "# Also drop the header. Another SageMaker convention.\n",
    "df_trn_clean.to_csv('bank_trn.csv', index=False, header=False)\n",
    "df_tst_clean.to_csv('bank_tst.csv', index=False, header=False)"
   ]
  },
  {
   "cell_type": "code",
   "execution_count": 37,
   "id": "2074177d",
   "metadata": {},
   "outputs": [
    {
     "data": {
      "text/plain": [
       "{'ResponseMetadata': {'RequestId': 'EX4APKT99B1V9WS2',\n",
       "  'HostId': 'JskeuaeKZbpI+mYWBa4SdBr9/3zlhBWmTuTwteHun842KOXJVhJRWo2xLr9AIFOiP4GmXG8SNckeiWVmEWzwOA==',\n",
       "  'HTTPStatusCode': 200,\n",
       "  'HTTPHeaders': {'x-amz-id-2': 'JskeuaeKZbpI+mYWBa4SdBr9/3zlhBWmTuTwteHun842KOXJVhJRWo2xLr9AIFOiP4GmXG8SNckeiWVmEWzwOA==',\n",
       "   'x-amz-request-id': 'EX4APKT99B1V9WS2',\n",
       "   'date': 'Fri, 08 Nov 2024 04:34:44 GMT',\n",
       "   'location': '/churn-bank-marketing',\n",
       "   'content-length': '0',\n",
       "   'server': 'AmazonS3'},\n",
       "  'RetryAttempts': 0},\n",
       " 'Location': '/churn-bank-marketing'}"
      ]
     },
     "execution_count": 37,
     "metadata": {},
     "output_type": "execute_result"
    }
   ],
   "source": [
    "s3 = boto3.client('s3')  # Initialize the S3 client\n",
    "bucket_name = 'churn-bank-marketing'\n",
    "\n",
    "assert sess.boto_region_name == 'us-east-1'\n",
    "s3.create_bucket(Bucket=bucket_name)  # region is `us-east-1`"
   ]
  },
  {
   "cell_type": "code",
   "execution_count": 38,
   "id": "d2d59a2c",
   "metadata": {},
   "outputs": [
    {
     "name": "stdout",
     "output_type": "stream",
     "text": [
      "train path >>> s3://churn-bank-marketing/sagemaker/logistic-regression/bank_trn.csv\n",
      "validation path >>> s3://churn-bank-marketing/sagemaker/logistic-regression/bank_tst.csv\n"
     ]
    }
   ],
   "source": [
    "prefix = 'sagemaker/logistic-regression'\n",
    "\n",
    "train_path = sess.upload_data(\"bank_trn.csv\", bucket=bucket_name, key_prefix=prefix)\n",
    "valid_path = sess.upload_data(\"bank_tst.csv\", bucket=bucket_name, key_prefix=prefix)\n",
    "\n",
    "print(f'train path >>> {train_path}')\n",
    "print(f'validation path >>> {valid_path}')"
   ]
  },
  {
   "cell_type": "code",
   "execution_count": null,
   "id": "951981f9",
   "metadata": {},
   "outputs": [],
   "source": []
  },
  {
   "cell_type": "code",
   "execution_count": 39,
   "id": "23c961bc",
   "metadata": {},
   "outputs": [],
   "source": [
    "train_input = sagemaker.inputs.TrainingInput(train_path, content_type='text/csv')\n",
    "validation_input = sagemaker.inputs.TrainingInput(valid_path, content_type='text/csv')"
   ]
  },
  {
   "cell_type": "code",
   "execution_count": 40,
   "id": "36fee20c",
   "metadata": {},
   "outputs": [
    {
     "data": {
      "text/plain": [
       "'382416733822.dkr.ecr.us-east-1.amazonaws.com/linear-learner:1'"
      ]
     },
     "execution_count": 40,
     "metadata": {},
     "output_type": "execute_result"
    }
   ],
   "source": [
    "container = sagemaker.image_uris.retrieve(\"linear-learner\", sess.boto_region_name)\n",
    "container"
   ]
  },
  {
   "cell_type": "code",
   "execution_count": 41,
   "id": "72f1852a",
   "metadata": {},
   "outputs": [],
   "source": [
    "linear_est = sagemaker.estimator.Estimator(\n",
    "    container,\n",
    "    role,\n",
    "    instance_count=1,\n",
    "    instance_type='ml.m5.large',\n",
    "    output_path=f's3://{bucket_name}/{prefix}/output',\n",
    "    sagemaker_session=sess\n",
    ")\n",
    "\n",
    "# Set static hyperparameters\n",
    "linear_est.set_hyperparameters(\n",
    "    predictor_type='binary_classifier',\n",
    "    binary_classifier_model_selection_criteria='cross_entropy_loss'\n",
    ")"
   ]
  },
  {
   "cell_type": "code",
   "execution_count": 42,
   "id": "ed913e4e",
   "metadata": {},
   "outputs": [
    {
     "name": "stderr",
     "output_type": "stream",
     "text": [
      "No finished training job found associated with this estimator. Please make sure this estimator is only used for building workflow config\n",
      "No finished training job found associated with this estimator. Please make sure this estimator is only used for building workflow config\n"
     ]
    },
    {
     "name": "stdout",
     "output_type": "stream",
     "text": [
      "..........................................................................................................................................................................!\n"
     ]
    }
   ],
   "source": [
    "# Define hyperparameter ranges to tune\n",
    "hyperparameter_ranges = {\n",
    "    \"learning_rate\": ContinuousParameter(0.001, 1),\n",
    "    \"mini_batch_size\": IntegerParameter(32, 128),\n",
    "    \"l1\": ContinuousParameter(0.0, 2.0),\n",
    "}\n",
    "\n",
    "# Define objective metric\n",
    "objective_metric_name = \"validation:binary_classification_accuracy\"\n",
    "objective_type = \"Maximize\"\n",
    "\n",
    "# Create a HyperparameterTuner object\n",
    "tuner = HyperparameterTuner(\n",
    "    estimator=linear_est,\n",
    "    objective_metric_name=objective_metric_name,\n",
    "    hyperparameter_ranges=hyperparameter_ranges,\n",
    "    max_jobs=20,  # Total number of tuning jobs\n",
    "    max_parallel_jobs=3,  # Number of jobs to run in parallel\n",
    "    objective_type=objective_type\n",
    ")\n",
    "\n",
    "# Launch hyperparameter tuning job\n",
    "tuner.fit({'train': train_input, 'validation': validation_input})"
   ]
  },
  {
   "cell_type": "code",
   "execution_count": 43,
   "id": "ac129d24",
   "metadata": {},
   "outputs": [
    {
     "data": {
      "text/plain": [
       "'linear-learner-241108-0434'"
      ]
     },
     "execution_count": 43,
     "metadata": {},
     "output_type": "execute_result"
    }
   ],
   "source": [
    "tuner.latest_tuning_job.name  # tuning-job-name\n",
    "# also can be found in:\n",
    "# Amazon SageMaker > Training > Hyperparameter tuning jobs"
   ]
  },
  {
   "cell_type": "code",
   "execution_count": 44,
   "id": "62b0744e",
   "metadata": {},
   "outputs": [
    {
     "name": "stdout",
     "output_type": "stream",
     "text": [
      "\n",
      "2024-11-08 04:47:20 Starting - Found matching resource for reuse\n",
      "2024-11-08 04:47:20 Downloading - Downloading the training image\n",
      "2024-11-08 04:47:20 Training - Training image download completed. Training in progress.\n",
      "2024-11-08 04:47:20 Uploading - Uploading generated training model\n",
      "2024-11-08 04:47:20 Completed - Resource reused by training job: linear-learner-241108-0434-019-d08a0ca2\n"
     ]
    },
    {
     "data": {
      "text/plain": [
       "<sagemaker.amazon.linear_learner.LinearLearner at 0x7fb31aad98d0>"
      ]
     },
     "execution_count": 44,
     "metadata": {},
     "output_type": "execute_result"
    }
   ],
   "source": [
    "# Attach to the tuning job if not already done\n",
    "tuner = HyperparameterTuner.attach(tuner.latest_tuning_job.name)\n",
    "\n",
    "# Get the best model\n",
    "best_estimator = tuner.best_estimator()\n",
    "best_estimator"
   ]
  },
  {
   "cell_type": "code",
   "execution_count": 45,
   "id": "1264106e",
   "metadata": {},
   "outputs": [
    {
     "data": {
      "text/plain": [
       "'s3://churn-bank-marketing/sagemaker/logistic-regression/output/linear-learner-241108-0434-016-e4ddd842/output/model.tar.gz'"
      ]
     },
     "execution_count": 45,
     "metadata": {},
     "output_type": "execute_result"
    }
   ],
   "source": [
    "best_estimator.model_data"
   ]
  },
  {
   "cell_type": "code",
   "execution_count": 46,
   "id": "c2c47ed8",
   "metadata": {},
   "outputs": [
    {
     "data": {
      "text/plain": [
       "{'predictor_type': 'binary_classifier',\n",
       " 'binary_classifier_model_selection_criteria': 'cross_entropy_loss',\n",
       " 'l1': '0.05993584894521531',\n",
       " 'learning_rate': '0.5585981942204319'}"
      ]
     },
     "execution_count": 46,
     "metadata": {},
     "output_type": "execute_result"
    }
   ],
   "source": [
    "# Best parameters picked:\n",
    "best_estimator.hyperparameters()"
   ]
  },
  {
   "cell_type": "code",
   "execution_count": 47,
   "id": "dd5ea467",
   "metadata": {},
   "outputs": [
    {
     "name": "stdout",
     "output_type": "stream",
     "text": [
      "--------!"
     ]
    }
   ],
   "source": [
    "# Deploy the best model\n",
    "linear_predictor = best_estimator.deploy(\n",
    "    initial_instance_count=1,  # Number of instances for deployment\n",
    "    instance_type=\"ml.m5.large\",  # Choose an instance type based on your needs\n",
    "    endpoint_name='logistic-reg-clf-churn-bank-v1'  # give customized name\n",
    ")\n"
   ]
  },
  {
   "cell_type": "code",
   "execution_count": 48,
   "id": "7acdef54",
   "metadata": {},
   "outputs": [
    {
     "data": {
      "text/plain": [
       "'logistic-reg-clf-churn-bank-v1'"
      ]
     },
     "execution_count": 48,
     "metadata": {},
     "output_type": "execute_result"
    }
   ],
   "source": [
    "linear_predictor.endpoint_name"
   ]
  },
  {
   "cell_type": "code",
   "execution_count": 49,
   "id": "3d958c5c",
   "metadata": {},
   "outputs": [
    {
     "data": {
      "text/plain": [
       "[-1.0307586832326059,\n",
       " -0.2210044429032759,\n",
       " 0.12417163887544379,\n",
       " 1.0,\n",
       " 0.0,\n",
       " 0.0,\n",
       " 0.0,\n",
       " 0.0,\n",
       " 0.0,\n",
       " 0.0,\n",
       " 0.0,\n",
       " 0.0,\n",
       " 0.0,\n",
       " 0.0,\n",
       " 0.0,\n",
       " 0.0,\n",
       " 1.0,\n",
       " 0.0,\n",
       " 0.0,\n",
       " 1.0,\n",
       " 0.0,\n",
       " 0.0,\n",
       " 1.0,\n",
       " 0.0,\n",
       " 0.0,\n",
       " 0.0,\n",
       " 0.0,\n",
       " 0.0,\n",
       " 1.0,\n",
       " 0.0,\n",
       " 0.0,\n",
       " 0.0,\n",
       " 0.0,\n",
       " 0.0,\n",
       " 0.0,\n",
       " 0.0,\n",
       " 0.0,\n",
       " 1.0,\n",
       " 0.0,\n",
       " 0.0,\n",
       " 0.0,\n",
       " 0.0,\n",
       " 1.0,\n",
       " 0.0,\n",
       " 11.0,\n",
       " 1.0,\n",
       " -1.0,\n",
       " 0.0]"
      ]
     },
     "execution_count": 49,
     "metadata": {},
     "output_type": "execute_result"
    }
   ],
   "source": [
    "parsed_json = json.loads(step1_transformed_data['body'])\n",
    "payload = parsed_json['transformed_data']\n",
    "payload"
   ]
  },
  {
   "cell_type": "code",
   "execution_count": 50,
   "id": "9732c85a",
   "metadata": {},
   "outputs": [
    {
     "data": {
      "text/plain": [
       "b'{\"predictions\": [{\"score\": 0.07681151479482651, \"predicted_label\": 0}]}'"
      ]
     },
     "execution_count": 50,
     "metadata": {},
     "output_type": "execute_result"
    }
   ],
   "source": [
    "endpoint_name = linear_predictor.endpoint_name\n",
    "\n",
    "predictor = sagemaker.predictor.Predictor(\n",
    "    endpoint_name=endpoint_name,\n",
    "    sagemaker_session=sess,\n",
    "    serializer=sagemaker.serializers.CSVSerializer()\n",
    ")\n",
    "\n",
    "predictor.predict(payload)"
   ]
  },
  {
   "cell_type": "code",
   "execution_count": 51,
   "id": "a297ec86",
   "metadata": {},
   "outputs": [
    {
     "data": {
      "text/plain": [
       "{'statusCode': 200,\n",
       " 'body': '{\"transformed_data\": [-1.0307586832326059, -0.2210044429032759, 0.12417163887544379, 1.0, 0.0, 0.0, 0.0, 0.0, 0.0, 0.0, 0.0, 0.0, 0.0, 0.0, 0.0, 0.0, 1.0, 0.0, 0.0, 1.0, 0.0, 0.0, 1.0, 0.0, 0.0, 0.0, 0.0, 0.0, 1.0, 0.0, 0.0, 0.0, 0.0, 0.0, 0.0, 0.0, 0.0, 1.0, 0.0, 0.0, 0.0, 0.0, 1.0, 0.0, 11.0, 1.0, -1.0, 0.0]}'}"
      ]
     },
     "execution_count": 51,
     "metadata": {},
     "output_type": "execute_result"
    }
   ],
   "source": [
    "step1_transformed_data"
   ]
  },
  {
   "cell_type": "code",
   "execution_count": 52,
   "id": "f7ae436e",
   "metadata": {},
   "outputs": [
    {
     "data": {
      "text/plain": [
       "{'predictions': [{'score': 0.07681151479482651, 'predicted_label': 0}]}"
      ]
     },
     "execution_count": 52,
     "metadata": {},
     "output_type": "execute_result"
    }
   ],
   "source": [
    "body = json.loads(step1_transformed_data['body'])\n",
    "transformed_data = body['transformed_data']\n",
    "\n",
    "runtime_client = boto3.client('sagemaker-runtime')\n",
    "\n",
    "# Define the appropriate endpoint name\n",
    "endpoint_name = 'logistic-reg-clf-churn-bank-v1'\n",
    "\n",
    "# Create the CSV serializer\n",
    "serializer = sagemaker.serializers.CSVSerializer()\n",
    "# Prepare the payload by serializing the data into CSV format\n",
    "payload = serializer.serialize(transformed_data)\n",
    "\n",
    "response = runtime_client.invoke_endpoint(\n",
    "    EndpointName=endpoint_name,\n",
    "    ContentType='text/csv',  # This matches the CSVSerializer\n",
    "    Body=payload\n",
    ")\n",
    "\n",
    "# Read and decode the response body\n",
    "result = json.loads(response['Body'].read().decode())  # Decode response\n",
    "result"
   ]
  },
  {
   "cell_type": "code",
   "execution_count": 53,
   "id": "afab0e91",
   "metadata": {},
   "outputs": [],
   "source": [
    "linear_predictor.delete_endpoint()\n"
   ]
  },
  {
   "cell_type": "code",
   "execution_count": null,
   "id": "f9eb1348",
   "metadata": {},
   "outputs": [],
   "source": []
  }
 ],
 "metadata": {
  "kernelspec": {
   "display_name": "conda_python3",
   "language": "python",
   "name": "conda_python3"
  },
  "language_info": {
   "codemirror_mode": {
    "name": "ipython",
    "version": 3
   },
   "file_extension": ".py",
   "mimetype": "text/x-python",
   "name": "python",
   "nbconvert_exporter": "python",
   "pygments_lexer": "ipython3",
   "version": "3.10.15"
  }
 },
 "nbformat": 4,
 "nbformat_minor": 5
}
